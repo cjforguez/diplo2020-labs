{
 "cells": [
  {
   "cell_type": "markdown",
   "metadata": {
    "colab_type": "text",
    "id": "mKqgKTs3FZCI"
   },
   "source": [
    "<center>\n",
    "<h4>Universidad Nacional de Córdoba - Facultad de Matemática, Astronomía, Física y Computación</h4>\n",
    "<h3>Diplomatura en Ciencia de Datos, Aprendizaje Automático y sus Aplicaciones</h3>\n",
    "</center>"
   ]
  },
  {
   "cell_type": "markdown",
   "metadata": {
    "colab_type": "text",
    "id": "b956SHDlFZCJ"
   },
   "source": [
    "<h1> Práctico </h1>\n",
    "<h3> Análisis y Visualización de Datos - 2020 </h3>\n",
    "\n",
    "Durante este práctico vamos a trabajar sobre el dataset [Human Freedom Index 2018](https://www.cato.org/human-freedom-index-new) de el instituto Cato. Este índice mide en detalle lo que entendemos como libertad, utilizando 79 indicadores de libertad personal y económica en distintos aspectos, hasta obtener un hermoso numerito del 1 al 10.\n",
    "\n",
    "Las variables más importantes sobre las que trabaja el dataset son:\n",
    "\n",
    "* Rule of Law\n",
    "* Security and Safety\n",
    "* Movement\n",
    "* Religion\n",
    "* Association, Assembly, and Civil Society\n",
    "* Expression and Information\n",
    "* Identity and Relationships\n",
    "* Size of Government\n",
    "* Legal System and Property Rights\n",
    "* Access to Sound Money\n",
    "* Freedom to Trade Internationally\n",
    "* Regulation of Credit, Labor, and Business\n",
    "\n",
    "Nosotros centrarermos nuestro análisis en variables relacionadas a *Identity and Relationships* en paises de Latinoamérica, y los compararemos con las estadísticas globales. La pregunta a responder es simple: **¿Qué niveles de libertad se viven en Latinoamérica, especificamente en cuanto libertades de indentidad?**. Sin embargo, para hacer un análisis de los datos tenemos que platear también estas sub preguntas:\n",
    "\n",
    "1. ¿Qué significa tener un puntaje de 4.5? Hay que poner los puntajes de la región en contexto con los datos del resto del mundo.\n",
    "2. ¿Cuál es la tendencia a lo largo de los años? ¿Estamos mejorando, empeorando?\n",
    "3. En este estudio, la libertad se mide con un estimadores principal: *hf_score* que hace referencia a Human Freedom, que a su vez está calculado en base a dos otros estimadores *ef_score*, para Economic Freedom y *pf_score*, para Personal Freedom. Estos tres estimadores, ¿se relacionan de la misma manera con la libertad de identidad?\n",
    "\n",
    "Inicialmente, en toda exploración de datos tenemos muy poca información a priori sobre el significado de los datos y tenemos que empezar por comprenderlos. Les proponemos los siguientes ejercicios como guía para comenzar esta exploración."
   ]
  },
  {
   "cell_type": "code",
   "execution_count": null,
   "metadata": {
    "colab": {
     "base_uri": "https://localhost:8080/",
     "height": 73
    },
    "colab_type": "code",
    "id": "xZoxu5phFZCK",
    "outputId": "316448bd-61a0-4fc4-e2d0-7abfce040abd"
   },
   "outputs": [],
   "source": [
    "import matplotlib.pyplot as plt\n",
    "import numpy\n",
    "import pandas\n",
    "import seaborn as sns"
   ]
  },
  {
   "cell_type": "code",
   "execution_count": null,
   "metadata": {
    "colab": {
     "base_uri": "https://localhost:8080/",
     "height": 35
    },
    "colab_type": "code",
    "id": "-N3A9N2LFZCP",
    "outputId": "cfada158-aea9-4ed2-cd1a-d24db74f14f4"
   },
   "outputs": [],
   "source": [
    "sns.__version__"
   ]
  },
  {
   "cell_type": "markdown",
   "metadata": {
    "colab_type": "text",
    "id": "Gg_MqLmTTi-h"
   },
   "source": [
    "Si un archivo está disponible en la web, podemos leerlo con pandas utilizando su URL sin necesidad de descargarlo."
   ]
  },
  {
   "cell_type": "code",
   "execution_count": null,
   "metadata": {
    "colab": {
     "base_uri": "https://localhost:8080/",
     "height": 35
    },
    "colab_type": "code",
    "id": "-QOtVVUOFZCU",
    "outputId": "9ab2645c-ce83-4ffc-c61b-2477a50f068c"
   },
   "outputs": [],
   "source": [
    "dataset = pandas.read_csv('https://object.cato.org/sites/cato.org/files/human-freedom-index-files/human-freedom-index-2019.csv')\n",
    "dataset.shape"
   ]
  },
  {
   "cell_type": "code",
   "execution_count": null,
   "metadata": {
    "colab": {
     "base_uri": "https://localhost:8080/",
     "height": 160
    },
    "colab_type": "code",
    "id": "S_n8Fh3EFZCY",
    "outputId": "9335dbb1-b639-42e7-8183-a3974b1e9fc6"
   },
   "outputs": [],
   "source": [
    "dataset.columns  # Way too many columns!"
   ]
  },
  {
   "cell_type": "markdown",
   "metadata": {
    "colab_type": "text",
    "id": "05keUcCbFZCc"
   },
   "source": [
    "Por suerte las columnas tienen un prefijo que nos ayuda a identificar a qué sección pertenecen. Nos quedamos sólo con las que comienzan con *pf_indentity*, junto con otras columnas más generales"
   ]
  },
  {
   "cell_type": "code",
   "execution_count": null,
   "metadata": {
    "colab": {},
    "colab_type": "code",
    "id": "EQCW-sJSFZCd"
   },
   "outputs": [],
   "source": [
    "score_cols = [col for col in dataset.columns if 'pf_identity' in col] + [\n",
    "    'pf_score', # Personal Freedom (score)\n",
    "    'pf_rank', # Personal Freedom (rank)\n",
    "    'ef_score', # Economic Freedom (score)\n",
    "    'ef_rank', # Economic Freedom (rank)\n",
    "    'hf_score', # Human Freedom (score)\n",
    "    'hf_rank', # Human Freedom (rank)\n",
    "]\n",
    "\n",
    "important_cols = ['year', 'ISO_code', 'countries', 'region'] + score_cols"
   ]
  },
  {
   "cell_type": "code",
   "execution_count": null,
   "metadata": {
    "colab": {
     "base_uri": "https://localhost:8080/",
     "height": 677
    },
    "colab_type": "code",
    "id": "ZXYn1yL5FZCh",
    "outputId": "9ff73231-1c11-407d-f47e-1fea3215e48b"
   },
   "outputs": [],
   "source": [
    "dataset[important_cols]"
   ]
  },
  {
   "cell_type": "markdown",
   "metadata": {
    "colab_type": "text",
    "id": "HPC6X48OVqgN"
   },
   "source": [
    "Si analizamos los tipos, vemos que casi todas las columnas se leen como objetos debido a que los valores nulos están marcados con `-`. Los vamos a eliminar y volveremos a convertir las columnas con puntajes a tipo numérico."
   ]
  },
  {
   "cell_type": "code",
   "execution_count": null,
   "metadata": {
    "colab": {
     "base_uri": "https://localhost:8080/",
     "height": 231
    },
    "colab_type": "code",
    "id": "An0A40SKVjxW",
    "outputId": "8cbbf6e9-c100-407a-ad50-a07b458e9511"
   },
   "outputs": [],
   "source": [
    "dataset.dtypes"
   ]
  },
  {
   "cell_type": "code",
   "execution_count": null,
   "metadata": {
    "colab": {
     "base_uri": "https://localhost:8080/",
     "height": 677
    },
    "colab_type": "code",
    "id": "cNSfBVH2WDVu",
    "outputId": "2bcdcc79-d263-4391-8272-4f4ac3ad04b1"
   },
   "outputs": [],
   "source": [
    "dataset = dataset[important_cols].replace('-', numpy.nan)\n",
    "for score_col in score_cols: \n",
    "    dataset[score_col] = pandas.to_numeric(dataset[score_col])\n",
    "dataset"
   ]
  },
  {
   "cell_type": "markdown",
   "metadata": {
    "colab_type": "text",
    "id": "jD3nFLfXSgp7"
   },
   "source": [
    "# Parte 1\n",
    "\n",
    "Luego de las clases del primer fin de semana, ya tenemos las herramientas para responder las siguientes preguntas:"
   ]
  },
  {
   "cell_type": "markdown",
   "metadata": {
    "colab_type": "text",
    "id": "DHwEp61uFZCl"
   },
   "source": [
    "# 1. Estadísticos descriptivos"
   ]
  },
  {
   "cell_type": "markdown",
   "metadata": {},
   "source": [
    "1. Para comenzar con un pantallazo de los datos, calcular el rango de las variables."
   ]
  },
  {
   "cell_type": "code",
   "execution_count": null,
   "metadata": {
    "colab": {},
    "colab_type": "code",
    "id": "D6KDiX_FFZCp"
   },
   "outputs": [],
   "source": [
    "#cantidad de paises 162.. creo que existen mas de 194 por lo que en el análisis hay muchos países que quedaron afuera\n",
    "print('Cantidad de países',len(dataset['countries'].unique()))"
   ]
  },
  {
   "cell_type": "code",
   "execution_count": null,
   "metadata": {},
   "outputs": [],
   "source": [
    "#pantallazo del rango de las variables\n",
    "dataset.describe()"
   ]
  },
  {
   "cell_type": "markdown",
   "metadata": {},
   "source": [
    "Podemos decir rapidamente que:\n",
    "- la puntuación de la libertad va entre 0 y 10\n",
    "- los años van entre 2008 a 2017\n",
    "- que se analizaron los 162 países en los 10 años\n",
    "- hay 14 puntajes, \n",
    "- hay 2 puntajes mas importantes que son libertad económica y personal\n",
    "- hay 1 puntaje con la libertad humana que es promedio de estás 2 últimas\n",
    "- 3 columnas con el ranking de los 3 puntajes mas relevantes"
   ]
  },
  {
   "cell_type": "code",
   "execution_count": null,
   "metadata": {},
   "outputs": [],
   "source": [
    "#se verifica que la libertad humana es el promedio entre la libertad personal y la económica\n",
    "# hf_score = (pf_score + ef_score)/2\n",
    "temp_dataset = dataset[ (((dataset['pf_score']+dataset['ef_score'])/2)-dataset['hf_score']).abs()>0.01 ]\n",
    "if temp_dataset.empty:\n",
    "    print(\"se verifica que hf_score = (pf_score + ef_score)/2\")\n",
    "else:\n",
    "    print(\"hay {} que no vefica que hf_score = (pf_score + ef_score)/2\".format(len(temp_dataset)))\n",
    "    "
   ]
  },
  {
   "cell_type": "markdown",
   "metadata": {},
   "source": [
    "2. Para cada país, tenemos varias realizaciones para cada variable *pf_identity* y *hf_score*. Si queremos comparar un país con otro, ¿cuál es la manera adecuada de hacerlo? Por ejemplo, ¿nos quedamos con un único valor? ¿o comparamos todos los valores? ¿usamos el promedio? ¿usamos la mediana? "
   ]
  },
  {
   "cell_type": "code",
   "execution_count": null,
   "metadata": {},
   "outputs": [],
   "source": [
    "#analizo la libertad mundial, media, mediana, dev std, máxima y minima\n",
    "# también agrego a Argentina\n",
    "pandas.options.display.float_format = '{:,.2f}'.format\n",
    "i_max=dataset.groupby('year')['hf_score'].idxmax()\n",
    "i_min=dataset.groupby('year')['hf_score'].idxmin()\n",
    "dataset_byyear = pandas.DataFrame()\n",
    "\n",
    "# agrego media\n",
    "dataset_byyear['hf_score_mean'] = dataset.groupby('year').mean()['hf_score']\n",
    "dataset_byyear['pf_score_mean'] = dataset.groupby('year').mean()['pf_score']\n",
    "\n",
    "#agrego mediana\n",
    "dataset_byyear['hf_score_median'] = dataset.groupby('year').median()['hf_score'] #por defecto saltea NaN values\n",
    "dataset_byyear['pf_score_median'] = dataset.groupby('year').median()['pf_score'] #por defecto saltea NaN values\n",
    "\n",
    "#agrego desviación estandar\n",
    "dataset_byyear['hf_score_std'] = dataset.groupby('year').std()['hf_score']\n",
    "dataset_byyear['pf_score_std'] = dataset.groupby('year').std()['pf_score']\n",
    "\n",
    "\n",
    "#agrego valores máximos y mínimos, incluye el país en esa posición\n",
    "dataset_byyear[['country_max','hf_score_max']] = dataset[['year','countries','hf_score']].loc[i_max].set_index('year')\n",
    "dataset_byyear[['country_min','hf_score_min']] = dataset[['year','countries','hf_score']].loc[i_min].set_index('year')\n",
    "\n",
    "#datos de argentina\n",
    "dataset_byyear[['hf_score_argentina']] = dataset[dataset['countries']=='Argentina'][['year','hf_score']].set_index('year')\n",
    "dataset_byyear[['pf_score_argentina']] = dataset[dataset['countries']=='Argentina'][['year','pf_score']].set_index('year')\n",
    "\n",
    "\n",
    "dataset_byyear"
   ]
  },
  {
   "cell_type": "markdown",
   "metadata": {},
   "source": [
    "Considero que los datos deben analizarse en el tiempo, agrupar valores sin considerar la fecha no tiene ningún sentido para tratar de identificar si un país está mejor que otro.\n",
    "Para esto podríamos analizar su valor medio actual y su tendencia en los últimos años.\n",
    "Mas adelante analizaré si hay correlación entre distintas libertades para distintos países.  \n",
    "En la tabla de arriba podemos decir que Nueva Zelanda es uno de los mejores países y Siria uno de los peores con bastante segurdidad.  \n",
    "También que Argentina está cerca de la media mundial. Pero considero que con valores hasta el 2017 hoy no podemos afirmar eso."
   ]
  },
  {
   "cell_type": "markdown",
   "metadata": {},
   "source": [
    "3. Obtener media, mediana y desviación estándar de las variables *pf_identity* y *hf_score* en el mundo y compararla con la de Latinoamérica y el caribe. Usar la respuesta del punto anterior para justificar si la comparación es válida o no."
   ]
  },
  {
   "cell_type": "code",
   "execution_count": null,
   "metadata": {},
   "outputs": [],
   "source": [
    "pandas.__version__"
   ]
  },
  {
   "cell_type": "code",
   "execution_count": null,
   "metadata": {},
   "outputs": [],
   "source": [
    "#datos por region, se usa pivot\n",
    "\n",
    "#calculo mas métricas regionales\n",
    "regions_mean = dataset.groupby(['year','region']).mean()\n",
    "regions_median = dataset.groupby(['year','region']).median()\n",
    "regions_std = dataset.dropna().groupby(['year','region']).std()\n",
    "\n",
    "#armo dataframe con puntajes por region\n",
    "regions = pandas.DataFrame()\n",
    "regions[['hf_score_mean','pf_score_mean']] = regions_mean[['hf_score','pf_score']]\n",
    "regions[['hf_score_median','pf_score_median']] = regions_median[['hf_score','pf_score']]\n",
    "regions[['hf_score_std','pf_score_std']] = regions_std[['hf_score','pf_score']]\n",
    "# regions.columns = pandas.MultiIndex.from_product([['mean','median','std'],['hf_score','pf_score']])\n",
    "regions.reset_index(inplace=True)\n",
    "\n",
    "# Se selecciona la region Latino America y Caribe\n",
    "df_LAC = regions.pivot(index='year',columns='region',values=regions.columns.values[2:])\\\n",
    ".xs('Latin America & the Caribbean', level='region', axis=1)\n",
    "\n",
    "# Se une con los datos globales\n",
    "df_LAC=df_LAC.join(dataset_byyear[dataset_byyear.columns[:6]],lsuffix='_LA&C', rsuffix='_G', how='inner', sort=True)\n",
    "df_LAC.sort_index(axis=1,inplace=True)\n",
    "df_LAC.columns = pandas.MultiIndex.from_product([['mean','median','std'],['hf_score','pf_score'],['World','LA&C']])\n",
    "df_LAC\n"
   ]
  },
  {
   "cell_type": "code",
   "execution_count": null,
   "metadata": {},
   "outputs": [],
   "source": [
    "# latin_id = 'Latin America & the Caribbean'\n",
    "# dataset_byyear[latin_id]=regions_ef_pf[['hf_score',latin_id]]"
   ]
  },
  {
   "cell_type": "code",
   "execution_count": null,
   "metadata": {},
   "outputs": [],
   "source": [
    "#copio latino america al dataframe\n",
    "latin_id = regions.columns[3]\n",
    "dataset_byyear[latin_id]=regions[latin_id]\n"
   ]
  },
  {
   "cell_type": "code",
   "execution_count": null,
   "metadata": {},
   "outputs": [],
   "source": [
    "# para comprobar que hace pandas cuando calcula la mediana\n",
    "# temp=dataset[ (dataset['year']==2008) & (dataset['hf_score'].notna()) ].sort_values('hf_score')\n",
    "# temp['hf_score'].iloc[int((len(temp)/2))]"
   ]
  },
  {
   "cell_type": "code",
   "execution_count": null,
   "metadata": {},
   "outputs": [],
   "source": [
    "import plotly.graph_objects as go\n",
    "import plotly"
   ]
  },
  {
   "cell_type": "code",
   "execution_count": null,
   "metadata": {},
   "outputs": [],
   "source": [
    "plotly.__version__"
   ]
  },
  {
   "cell_type": "code",
   "execution_count": null,
   "metadata": {},
   "outputs": [],
   "source": [
    "x = dataset_byyear.index\n",
    "y=  dataset_byyear['hf_score_mean']\n",
    "ymax = dataset_byyear['hf_score_max']\n",
    "ymin = dataset_byyear['hf_score_min']\n",
    "ystd_up=  y + dataset.groupby('year').std()['hf_score']\n",
    "ystd_down=  y - dataset.groupby('year').std()['hf_score']\n",
    "\n",
    "fig = go.Figure()\n",
    "\n",
    "fig.add_trace(go.Scatter(x=x, y=y, \n",
    "                         name='Media mundial', mode='lines', line=dict(color='royalblue', width=4))\n",
    "             )\n",
    "\n",
    "fig.add_trace(go.Scatter(x=x, y=dataset_byyear['hf_score_argentina'], \n",
    "                         name='Libertad en Argentina', mode='lines', line=dict(color='orange', width=4))\n",
    "             )\n",
    "\n",
    "fig.add_trace(go.Scatter(x=x, y=dataset_byyear[latin_id], \n",
    "                         name=latin_id, mode='lines', line=dict(color='brown', width=4))\n",
    "             )\n",
    "\n",
    "fig.add_trace(go.Scatter(x=x, y=ymax, text=dataset_byyear['country_max'], textposition= 'top center',\n",
    "                         name='Máxima Libertad', mode='markers', line=dict(color='green', width=2)\n",
    "                        #,visible='legendonly'\n",
    "                        )\n",
    "             )\n",
    "\n",
    "fig.add_trace(go.Scatter(x=x, y=ymin, text=dataset_byyear['country_min'], textposition= 'top center',\n",
    "                         name='Mínima Libertad', mode='markers', line=dict(color='red', width=2)\n",
    "                        #,visible='legendonly'\n",
    "                        )\n",
    "             )\n",
    "\n",
    "fig.add_trace(go.Scatter(x=x, y=ystd_down, \n",
    "                         name='Std down', mode='lines', line=dict(width=2)\n",
    "                        ,visible='legendonly')\n",
    "             )\n",
    "\n",
    "fig.add_trace(go.Scatter(x=x, y=ystd_up, \n",
    "                         name='Std up', mode='lines', line=dict(width=2)\n",
    "                        ,visible='legendonly')\n",
    "             )\n",
    "\n",
    "# fig.add_trace(go.Scatter(x=dataset['year'], y=dataset['hf_score'], text=dataset['countries'], \n",
    "#                          name='Todos los países', mode='markers', marker_size=4\n",
    "#                         ,visible='legendonly')\n",
    "#              )\n",
    "\n",
    "fig.add_trace(go.Box(\n",
    "                    x=dataset['year'], y=dataset['hf_score'], text=dataset['countries'], \n",
    "                    name=\"Todos los países\",\n",
    "#                     jitter=0.3,\n",
    "#                     pointpos=-1.8,\n",
    "                    boxpoints='all', # represent all points\n",
    "                    marker_color='rgb(17,80,89)',\n",
    "                    line_color='rgb(17,80,89)'\n",
    "                    ,boxmean=True\n",
    "                    ,visible='legendonly'\n",
    "                    )\n",
    "             )\n",
    "\n",
    "\n",
    "# fig.update_traces(textposition='top center')\n",
    "\n",
    "fig.update_layout(\n",
    "    title=go.layout.Title(\n",
    "        text=\"Libertad Mundial / Argentina / Latino América\",\n",
    "        xref=\"paper\",\n",
    "        x=0.1,\n",
    "        font_size=18,\n",
    "    ),\n",
    "    xaxis=go.layout.XAxis(\n",
    "        title=go.layout.xaxis.Title(\n",
    "            text=\"Año\",\n",
    "            font=dict(\n",
    "                family=\"Courier New, monospace\",\n",
    "                size=18,\n",
    "                color=\"#7f7f7f\"\n",
    "            )\n",
    "        )\n",
    "    ),\n",
    "    yaxis=go.layout.YAxis(\n",
    "        title=go.layout.yaxis.Title(\n",
    "            text=\"Puntaje\",\n",
    "            font=dict(\n",
    "                family=\"Courier New, monospace\",\n",
    "                size=18,\n",
    "                color=\"#7f7f7f\"\n",
    "            )\n",
    "        )\n",
    "    )\n",
    ")\n",
    "\n",
    "fig.show()"
   ]
  },
  {
   "cell_type": "markdown",
   "metadata": {},
   "source": [
    "- Se puede observar que la libertad mundial y de latino América son similares.\n",
    "- La libertad en Argentina tiene un quiebre en la tendencia a partir de 2014 donde en el 2018 se recuperó hasta la media mundial\n",
    "- El gráfico permite ocultar y visualizar distintas curvas haciendo click en la leyenda de la derecha\n",
    "- Se puede activar el diagrama de caja de todos los países, se puede hacer zoom en el año y extremo deseado si nos paramos con el cursor del mouse se pueden observar valores exactos de cada medida  para una visualización panorámica considero que seaborn es mucho mas sencillo de usar y cumple perfectamente las espectativas\n",
    "- Para gráficos donde se quiere ver el detalle, plotly se adapta mejor \n",
    "- Si se activa \"Todos los países\" se puede ver a Siria como Outlier, de ninguna manera sacaría a Siria cuando se está hablando de libertad humana, hasta es preocupante!\n",
    "- Otra observación es que la tendencia tanto en latino América y mundial está en descenso.. se podría calcular la pendiente,  pero no creo que aporte demasiado, ya que decir que en x años no vamos a tener mas libertad sería absurdo\n",
    "- Se podría estimar cuando podría haber una Revolución pero habría que entender a que valor de hf_score podría ocurrir."
   ]
  },
  {
   "cell_type": "markdown",
   "metadata": {},
   "source": [
    "4. ¿Tiene sentido calcular la moda?\n",
    "No tiene sentido analizar la moda, ya que es para valores categóricos. "
   ]
  },
  {
   "cell_type": "markdown",
   "metadata": {},
   "source": [
    "5. Cómo pueden sanearse los valores faltantes?\n",
    "No lo haría por tratarse de valores de libertad, pero se podría interpolar o extrapolar con puntos de otro año si es que los tuviese."
   ]
  },
  {
   "cell_type": "markdown",
   "metadata": {},
   "source": [
    "  6. ¿Encuentra outliers en estas dos variables? ¿Qué método utiliza para detectarlos? Los outliers, ¿son globales o por grupo? ¿Los eliminaría del conjunto de datos?\n",
    "  "
   ]
  },
  {
   "cell_type": "markdown",
   "metadata": {},
   "source": [
    "Usando el box plot encuentro a Siria como outlier, plotly usa los cuartiles y la mediana: valores inferiores a Q1–1.5·RIC o superiores a Q3+1.5·RIC.\n",
    "Habría que leer un poco sobre este país y ver si tienen realmente un problema de libertad, pero nunca quitaría este valor"
   ]
  },
  {
   "cell_type": "code",
   "execution_count": null,
   "metadata": {},
   "outputs": [],
   "source": [
    "# un ejemplo para encontrar outliers en el año 2017, usando la media y 2.5 x desviación estandar\n",
    "dataset2017 = dataset[dataset['year']==2017] #selecciono el año\n",
    "mean = dataset2017['hf_score'].mean() # media\n",
    "std = dataset2017['hf_score'].std() # desviación estandar\n",
    "filtro = (dataset2017['hf_score']-mean).abs()>=(2.5*std) # filtro valores con distancia mayor a 2.5*std desde la media\n",
    "filtro_nan = dataset2017['hf_score'].notna() # filtro NaN\n",
    "dataset2017[(filtro)&(filtro_nan)]\n"
   ]
  },
  {
   "cell_type": "markdown",
   "metadata": {},
   "source": [
    "En la tabla de arriba se muestran Outliers en el año 2017, usando la media y 2.5 x desviación estandar"
   ]
  },
  {
   "cell_type": "markdown",
   "metadata": {
    "colab_type": "text",
    "id": "kwzDqGtfFZCm"
   },
   "source": [
    "## 2. Agregación de datos\n",
    "\n",
    "1. Grafiquen la media de la variable *pf_identity* y *hf_score* a través de los años.\n",
    "\n",
    "Pista: hay gráficos de seaborn que permiten generar visualizaciones para cada valor de una variable categórica, en este caso, las distintas regiones.\n",
    "\n",
    "Sólo por curiosidad, graficar la tendencia de *hf_score* y *ef_score* a través de los años. ¿Tienen alguna hipótesis para este comportamiento?"
   ]
  },
  {
   "cell_type": "code",
   "execution_count": null,
   "metadata": {},
   "outputs": [],
   "source": [
    "# se grafica la libertad económica y personal mundial\n",
    "sns.set_context(context='talk', font_scale=0.8, rc={\"lines.linewidth\": 3})\n",
    "plt.figure(figsize=(10,6))\n",
    "sns.lineplot(data=dataset,\n",
    "                 x='year', y='ef_score', label='Libertad económica', color='Orange',\n",
    "                 estimator = 'mean',\n",
    "                 ci = 'sd',\n",
    "                 n_boot = 1000 #solo se usa para ci 0 a 100%\n",
    "                )\n",
    "\n",
    "sns.lineplot(data=dataset,\n",
    "                 x='year', y='pf_score', label='Libertad personal', color='Green',\n",
    "                 estimator = 'mean',\n",
    "                 ci = 'sd',\n",
    "                 n_boot = 1000 #solo se usa para ci 0 a 100%\n",
    "                )\n",
    "\n",
    "\n",
    "\n",
    "plt.legend()\n",
    "plt.legend(bbox_to_anchor=(1.4, 0.9), loc=0, borderaxespad=0, shadow=True)\n",
    "plt.title(\"Variación de las Libertades en el mundo\")\n",
    "#plt.legend(bbox_to_anchor=(1.05, 1), loc=2, borderaxespad=0)\n",
    "plt.ylabel('Puntaje')\n",
    "plt.xlabel('Año')\n",
    "sns.despine()"
   ]
  },
  {
   "cell_type": "markdown",
   "metadata": {},
   "source": [
    "2.2. Realicen los mismos gráficos, pero separando por regiones (Cada variable en un gráfico distinto, sino no se ve nada). ¿La tendencia observada, es la misma que si no dividimos por regiones?"
   ]
  },
  {
   "cell_type": "code",
   "execution_count": null,
   "metadata": {},
   "outputs": [],
   "source": [
    "import plotly.express as px\n",
    "\n",
    "df = dataset.groupby(['year','region'], as_index=False).mean()\n",
    "fig = px.line(df, x='year', y='ef_score', color=\"region\", line_group=\"region\", hover_name=\"region\", line_shape='spline')\n",
    "\n",
    "fig.update_layout(\n",
    "    title=\"Libertad económica por Regiones\",\n",
    "    xaxis_title=\"Año\",\n",
    "    yaxis_title=\"Libertad económica\"\n",
    "                )\n",
    "fig.show()"
   ]
  },
  {
   "cell_type": "code",
   "execution_count": null,
   "metadata": {},
   "outputs": [],
   "source": [
    "df = dataset.groupby(['year','region'], as_index=False).mean()\n",
    "fig = px.line(df, x='year', y='pf_score', color=\"region\", line_group=\"region\", hover_name=\"region\", line_shape='spline')\n",
    "\n",
    "fig.update_layout(\n",
    "    title=\"Libertad personal por Regiones\",\n",
    "    xaxis_title=\"Año\",\n",
    "    yaxis_title=\"Libertad personal\"\n",
    "                )\n",
    "fig.show()"
   ]
  },
  {
   "cell_type": "markdown",
   "metadata": {},
   "source": [
    "Al igual que en el gráfico de la libertad mundial, por región vemos que en general la libertad personal tiende a disminuir en todas la regiones, en lo económico tiene un leve alza.  \n",
    "Nota, Ploty express permite hacer algunos gráficos bastantes rápidos."
   ]
  },
  {
   "cell_type": "markdown",
   "metadata": {},
   "source": [
    "2.3. Si lo consideran necesario, grafiquen algunos países de Latinoamerica para tratar de explicar la tendencia de la variable *pf_identity* en la región. ¿Cómo seleccionarion los países relevantes a esa tendencia?"
   ]
  },
  {
   "cell_type": "code",
   "execution_count": null,
   "metadata": {},
   "outputs": [],
   "source": [
    "dataset_world = dataset.groupby('year').mean()[['ef_score','pf_score']]\n",
    "dataset_world"
   ]
  },
  {
   "cell_type": "code",
   "execution_count": null,
   "metadata": {},
   "outputs": [],
   "source": [
    "countries = ['Argentina', 'Brazil', 'Mexico', 'Bolivia',\n",
    "             'Uruguay', 'Peru', 'Colombia', 'Venezuela']\n",
    "df=dataset[dataset['countries'].isin(countries)].copy()\n",
    "fig_pf = px.line(df, x='year', y='pf_score', color=\"countries\",line_group=\"countries\", hover_name=\"countries\"\n",
    "              ,line_shape='spline'\n",
    "             )\n",
    "\n",
    "fig_pf.update_traces(visible='legendonly')\n",
    "\n",
    "fig_pf.data[0].visible=True\n",
    "fig_pf.data[-2].visible=True\n",
    "fig_pf.data[-1].visible=True\n",
    "\n",
    "fig_pf.add_trace(go.Scatter(x=dataset_world.index, y=dataset_world['pf_score'], \n",
    "                         name='Libertad Personal mundial', mode='lines', line=dict(color='gray', width=5))\n",
    "             )\n",
    "\n",
    "fig_pf.update_layout(\n",
    "    title=go.layout.Title(\n",
    "        text=\"Libertad personal en algunos paises de Latinoamérica\",\n",
    "        xref=\"paper\",\n",
    "        x=0.1,\n",
    "        font_size=18,\n",
    "    ),\n",
    "    xaxis_title=\"Año\",\n",
    "    yaxis_title=\"Puntaje\",\n",
    "    legend_title_text='Países'\n",
    ")\n",
    "\n",
    "\n",
    "fig_pf.show()\n",
    "\n"
   ]
  },
  {
   "cell_type": "code",
   "execution_count": null,
   "metadata": {},
   "outputs": [],
   "source": [
    "countries = ['Argentina', 'Brazil', 'Mexico', 'Bolivia',\n",
    "             'Uruguay', 'Peru', 'Colombia', 'Venezuela']\n",
    "df=dataset[dataset['countries'].isin(countries)].copy()\n",
    "\n",
    "fig_ef = px.line(df, x='year', y='ef_score', color=\"countries\",line_group=\"countries\", hover_name=\"countries\"\n",
    "              ,line_shape='spline'\n",
    "             )\n",
    "\n",
    "fig_ef.update_traces(visible='legendonly')\n",
    "\n",
    "fig_ef.data[0].visible=True\n",
    "fig_ef.data[-2].visible=True\n",
    "fig_ef.data[-1].visible=True\n",
    "\n",
    "fig_ef.add_trace(go.Scatter(x=dataset_world.index, y=dataset_world['ef_score'], \n",
    "                         name='Libertad Económica mundial', mode='lines', line=dict(color='gray', width=5)\n",
    "                        ) \n",
    "             )\n",
    "\n",
    "\n",
    "fig_ef.update_layout(\n",
    "    title=go.layout.Title(\n",
    "        text=\"Libertad Económica en algunos paises de Latinoamérica\",\n",
    "        xref=\"paper\",\n",
    "        x=0.1,\n",
    "        font_size=18,\n",
    "    ),\n",
    "    xaxis_title=\"Año\",\n",
    "    yaxis_title=\"Puntaje\",\n",
    "    legend_title_text='Países'\n",
    ")\n",
    "\n",
    "\n",
    "fig_ef.show()\n"
   ]
  },
  {
   "cell_type": "markdown",
   "metadata": {},
   "source": [
    "Los gráficos de arriba se puede comprar algunos países de latino América, con el gráfico se puede interactuar habilitando los países que se desean observar y ocultando lo que no se desean ver.  \n",
    "Hasta el 2017 Argentina no se parece a Venezuela.  \n",
    "Uruguay parece el mejor país que nos rodea, tanto en lo económico como en lo personal."
   ]
  },
  {
   "cell_type": "code",
   "execution_count": null,
   "metadata": {},
   "outputs": [],
   "source": [
    "# import plotly.offline as pltly\n",
    "# pltly.plot(fig_pf, filename='pf_score.html',auto_open=False)\n",
    "# pltly.plot(fig_ef, filename='ef_score.html',auto_open=False)"
   ]
  },
  {
   "cell_type": "markdown",
   "metadata": {
    "colab_type": "text",
    "id": "z7cBpSPrFZCn"
   },
   "source": [
    "## 3. Distribuciones\n",
    "  1. Graficar en un mismo histograma la distribución de la variable *pf_identity* en global, y en Latinoamérica y el caribe. Repetir para la variable *hf_score*. ¿Visualmente, a qué tipo de distribución corresponde cada variable? ¿Es correcto utilizar todos el conjunto de valores disponibles para esa region en estos gráficos?\n"
   ]
  },
  {
   "cell_type": "code",
   "execution_count": null,
   "metadata": {},
   "outputs": [],
   "source": [
    "plt.figure(figsize=(15,14))\n",
    "plt.suptitle('Histogramas distribución de la Libertad Personal', y=1.005)\n",
    "\n",
    "f = dataset['region']=='Latin America & the Caribbean'\n",
    "with sns.axes_style(\"white\"):\n",
    "    \n",
    "    sp1=plt.subplot(2,1,1)\n",
    "    sns.distplot(dataset['hf_score'],kde=True, norm_hist=True, bins=10, color='green'\n",
    "                ,label = 'Mundial'\n",
    "                , ax=sp1\n",
    "                )\n",
    "    sns.distplot(dataset[f]['hf_score'], kde=True, norm_hist=True, bins=10, color='orange'\n",
    "                ,label='América Latina y Caribe'\n",
    "                ,ax=sp1\n",
    "                )\n",
    "\n",
    "    sp1.set_xlabel('Libertad personal', weight='bold')\n",
    "    sp1.set_ylabel('Frecuencia normalizada')\n",
    "    sp1.set_xlim(2,10)\n",
    "    sp1.legend(shadow=True)\n",
    "    sns.despine()\n",
    "\n",
    "    sp2 = plt.subplot(2,1,2)\n",
    "    sns.distplot(dataset['ef_score'],kde=True, norm_hist=True, bins=10, color='green'\n",
    "                ,label = 'Mundial'\n",
    "                , ax=sp2\n",
    "                )\n",
    "    sns.distplot(dataset[f]['ef_score'], kde=True, norm_hist=True, bins=10, color='orange'\n",
    "                ,label='América Latina y Caribe'\n",
    "                ,ax=sp2\n",
    "                )\n",
    "\n",
    "    sp2.set_xlabel('Libertad económica', weight='bold')\n",
    "    sp2.set_ylabel('Frecuencia normalizada')\n",
    "    sp2.set_xlim(2,10)\n",
    "    sp2.legend(shadow=True)\n",
    "    sns.despine()    \n",
    "    \n",
    "\n",
    "    #sp2.legend(bbox_to_anchor=(1.5, 0.9), loc=0, borderaxespad=0, shadow=True)\n",
    "\n",
    "plt.show()"
   ]
  },
  {
   "cell_type": "markdown",
   "metadata": {},
   "source": [
    "La libertad económica pareciera tener distribución normal. Aunque hay países como Venezuela fuera de los normal.   \n",
    "Es correcto tomar todos los valores si queremos ver los 10 años en conjunto."
   ]
  },
  {
   "cell_type": "markdown",
   "metadata": {
    "colab_type": "text",
    "id": "lEwQJIulFZCo"
   },
   "source": [
    "## 4. Correlaciones y Relaciones\n",
    "\n",
    "En este ejercicio queremos responder a las preguntas\n",
    "\n",
    "* Las libertades personales y económicas, ¿van siempre de la mano?\n",
    "* ¿Cómo se relacionan ambas con las libertades respectivas a las relaciones personales?\n",
    "\n",
    "Para ello, analizaremos las correlaciones entre las variables pf_identity, pf_score y ef_score. \n",
    "\n",
    "Como pf_indentity contribuye al cálculo de pf_score esperamos hallar algún grado de correlación. Lo contrario podría ocurrir con ef_score. \n",
    "\n",
    "1. ¿Qué conclusiones puede sacar de un gráfico pairplot de estas tres variables? ¿Es adecuado para los valores de pf_identity? ¿Por qué?\n",
    "2. Graficar la correlación (visual) entre pf_identity y pf_score; y entre pf_identity y ef_score. Analizar el resultado, ¿se pueden sacar conclusiones? Tengan en cuenta que como pf_identity es el resultado de un promedio, sólo toma algunos valores. Es, en la práctica, discreta, y eso afecta al tipo de gráfico que podemos usar.\n",
    "3. Convertir estas variables en categóricas, es decir, a partir de pf_indentity generar otra variable pf_identity_segment que tome los valores `high`, `medium` y `low`. Pueden hacerlo con una función escrita por ustedes, o usando alguna función de pandas como `pandas.cut` o `pandas.dcut`. Repetir para ef_score y pf_score. El criterio para decidir qué intervalos de valores corresponden a cada categoría tienen que decidirlo ustedes, pueden usar los estadísticos mediana y los cuartiles.\n",
    "4. Graficar la correlación (visual) entre estas tres variables categoricas usando gráficos de calor (heatmaps). Note: van a necesitar 3 gráficos distintos, porque en cada uno podemos incluir sólo 2 variables.\n",
    "\n"
   ]
  },
  {
   "cell_type": "code",
   "execution_count": null,
   "metadata": {},
   "outputs": [],
   "source": [
    "with sns.axes_style(\"white\"):\n",
    "    g = sns.PairGrid(data=dataset, vars=['pf_identity', 'pf_score', 'ef_score'], height=4, aspect=1)\n",
    "    g.map_lower(sns.regplot, ci=95, scatter_kws={\"s\": 2}, line_kws={'color':'g'}) #Intervalo de Confianza = 95%\n",
    "    g.map_diag (sns.distplot, kde=False, norm_hist=True)\n",
    "    g.map_upper(sns.kdeplot, n_levels=10, shade=True, shade_lowest=False)\n",
    "    \n",
    "plt.show()"
   ]
  },
  {
   "cell_type": "markdown",
   "metadata": {
    "colab_type": "text",
    "id": "3uybvRrGSyA6"
   },
   "source": [
    "# Parte 2\n",
    "\n",
    "Luego del segundo fin de semana de clase, podemos revisitar nuestro trabajo anterior y completarlo respondiendo a las siguientes preguntas:"
   ]
  },
  {
   "cell_type": "markdown",
   "metadata": {
    "colab_type": "text",
    "id": "OF4LTznCS6SD"
   },
   "source": [
    "## 3. Distribuciones\n",
    "\n",
    "2. Realizar una prueba de Kolmogorov-Smirnof para comprobar analíticamente si estas variables responden la distribución propuesta en el ejercicio anterior. Hint: podés usar https://docs.scipy.org/doc/scipy-0.14.0/reference/generated/scipy.stats.kstest.html, pero hay que tener en cuenta que si la distribución es \"norm\", entonces va a comparar los datos con una distribución normal con media 0 y desviación estándar 1. Se puede utilizar la distribución sobre todos los datos o sólo sobre Latinoamérica."
   ]
  },
  {
   "cell_type": "markdown",
   "metadata": {
    "colab_type": "text",
    "id": "WWmCi_wRTYAB"
   },
   "source": [
    "## 4. Correlaciones\n",
    "\n",
    "3. Calcular algún coeficiente de correlación adecuado entre los dos pares de variables, dependiendo de la cantidad de datos, el tipo de datos y la distribución de los mismo. Algunas opciones son: coeficiente de pearson, coeficiente de spearman, coeficientes de tau y de kendall. Interpretar los resultados y justificar si las variables están correlacionadas o no. \n",
    "4. [Opcional] Analizar la correlación entre la region y el pf_score (y/o el ef_score); y entre la region y el pf_identity. Considerar que como la variable *region* es ordinal, debe utilizarse algún tipo de test. Explicar cuáles son los requisitos necesarios para la aplicación de ese test. (Si no se cumplieran, se pueden agregar algunos datos para generar más registros). Genere nuevas variables categóricas ordinales para calcular la correlación Tau de Kendal y genere una tabla de contingencia con esas nuevas variables."
   ]
  },
  {
   "cell_type": "markdown",
   "metadata": {
    "colab_type": "text",
    "id": "WqoHOee9UC7n"
   },
   "source": [
    "Además de completar estos puntos faltantes, luego de haber visitado los conceptos de percepción visual y comunicación efectiva, están en condiciones de reveer los gráficos realizados y evaluar si pueden ser mejorados. Para ello, puede hacerse las siguientes preguntas:\n",
    "\n",
    "* ¿Están utilizando el tipo de gráfico adecuado para cada tipo de variable?\n",
    "* Los gráficos, ¿son legibles?\n",
    "* Los gráficos generados, ¿responden a las preguntas mostrando un patrón claro? En caso de que no, ¿podemos filtrar los datos para que el patrón sea más evidente? ¿o agruparlos de manera distinta? ¿o cambiar el tipo de gráfico?"
   ]
  },
  {
   "cell_type": "code",
   "execution_count": null,
   "metadata": {},
   "outputs": [],
   "source": [
    "dataset.head(2)"
   ]
  },
  {
   "cell_type": "code",
   "execution_count": null,
   "metadata": {},
   "outputs": [],
   "source": []
  },
  {
   "cell_type": "code",
   "execution_count": null,
   "metadata": {},
   "outputs": [],
   "source": []
  }
 ],
 "metadata": {
  "colab": {
   "name": "practico1.ipynb",
   "provenance": []
  },
  "kernelspec": {
   "display_name": "Python 3",
   "language": "python",
   "name": "python3"
  },
  "language_info": {
   "codemirror_mode": {
    "name": "ipython",
    "version": 3
   },
   "file_extension": ".py",
   "mimetype": "text/x-python",
   "name": "python",
   "nbconvert_exporter": "python",
   "pygments_lexer": "ipython3",
   "version": "3.7.4"
  }
 },
 "nbformat": 4,
 "nbformat_minor": 4
}
