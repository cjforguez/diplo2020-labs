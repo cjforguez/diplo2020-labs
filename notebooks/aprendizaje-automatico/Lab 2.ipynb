{
 "cells": [
  {
   "cell_type": "markdown",
   "metadata": {
    "colab_type": "text",
    "id": "FQBUZTxtPe6q"
   },
   "source": [
    "# Laboratorio 2: Armado de un esquema de aprendizaje automático\n",
    "\n",
    "En el laboratorio final se espera que puedan poner en práctica los conocimientos adquiridos en el curso, trabajando con un conjunto de datos de clasificación.\n",
    "\n",
    "El objetivo es que se introduzcan en el desarrollo de un esquema para hacer tareas de aprendizaje automático: selección de un modelo, ajuste de hiperparámetros y evaluación.\n",
    "\n",
    "El conjunto de datos a utilizar está en `./data/loan_data.csv`. Si abren el archivo verán que al principio (las líneas que empiezan con `#`) describen el conjunto de datos y sus atributos (incluyendo el atributo de etiqueta o clase).\n",
    "\n",
    "Se espera que hagan uso de las herramientas vistas en el curso. Se espera que hagan uso especialmente de las herramientas brindadas por `scikit-learn`."
   ]
  },
  {
   "cell_type": "code",
   "execution_count": null,
   "metadata": {
    "colab": {},
    "colab_type": "code",
    "id": "X8vi0OsqPe6s"
   },
   "outputs": [],
   "source": [
    "import sys\n",
    "import numpy as np\n",
    "import pandas as pd\n",
    "import matplotlib.pyplot as plt\n",
    "import seaborn as sns\n",
    "\n",
    "# TODO: Agregar las librerías que hagan falta\n",
    "from sklearn.model_selection import train_test_split, ParameterSampler, GridSearchCV\n",
    "from sklearn.linear_model import SGDClassifier\n",
    "from sklearn.tree import DecisionTreeClassifier, plot_tree\n",
    "from sklearn.metrics import classification_report, confusion_matrix, plot_confusion_matrix\n",
    "from sklearn.preprocessing import StandardScaler\n",
    "from sklearn.pipeline import make_pipeline\n",
    "from scipy import stats\n",
    "\n",
    "# Utilizadas en el punto 2.2 para graficar las distintas configuraciones del modelo\n",
    "import plotly\n",
    "import plotly.graph_objects as go\n",
    "from plotly.subplots import make_subplots"
   ]
  },
  {
   "cell_type": "markdown",
   "metadata": {
    "colab_type": "text",
    "id": "L_6KYtn3Pe61"
   },
   "source": [
    "## Carga de datos y división en entrenamiento y evaluación\n",
    "\n",
    "La celda siguiente se encarga de la carga de datos (haciendo uso de pandas). Estos serán los que se trabajarán en el resto del laboratorio."
   ]
  },
  {
   "cell_type": "code",
   "execution_count": null,
   "metadata": {
    "colab": {},
    "colab_type": "code",
    "id": "T7K6HYuXTTn3"
   },
   "outputs": [],
   "source": [
    "#dataset = pd.read_csv(\"./data/loan_data.csv\", comment=\"#\")\n",
    "file = \"data/loan_data.csv\"\n",
    "dataset = pd.read_csv(file, comment=\"#\")"
   ]
  },
  {
   "cell_type": "code",
   "execution_count": null,
   "metadata": {
    "colab": {},
    "colab_type": "code",
    "id": "wL2t-wpIPe62"
   },
   "outputs": [],
   "source": [
    "# División entre instancias y etiquetas\n",
    "X, y = dataset.iloc[:, 1:], dataset.TARGET\n",
    "\n",
    "# división entre entrenamiento y evaluación\n",
    "X_train, X_test, y_train, y_test = train_test_split(X, y, test_size=0.2, random_state=0)"
   ]
  },
  {
   "cell_type": "markdown",
   "metadata": {
    "colab_type": "text",
    "id": "vXM5ZGx5Pe69"
   },
   "source": [
    "\n",
    "Documentación:\n",
    "\n",
    "- https://scikit-learn.org/stable/modules/generated/sklearn.model_selection.train_test_split.html"
   ]
  },
  {
   "cell_type": "markdown",
   "metadata": {
    "colab_type": "text",
    "id": "tM9YJrKKPe6-"
   },
   "source": [
    "## Ejercicio 1: Descripción de los Datos y la Tarea\n",
    "\n",
    "Responder las siguientes preguntas:\n",
    "\n",
    "1. ¿De qué se trata el conjunto de datos?\n",
    "2. ¿Cuál es la variable objetivo que hay que predecir? ¿Qué significado tiene?\n",
    "3. ¿Qué información (atributos) hay disponible para hacer la predicción?\n",
    "4. ¿Qué atributos imagina ud. que son los más determinantes para la predicción?\n",
    "\n",
    "**No hace falta escribir código para responder estas preguntas.**"
   ]
  },
  {
   "cell_type": "markdown",
   "metadata": {
    "colab_type": "text",
    "id": "Qs9gvwkJUqS9"
   },
   "source": [
    "https://www.kaggle.com/ajay1735/hmeq-data\n",
    "\n",
    "1. El Home Equity dataset (HMEQ), contiene una linea base y la información de rendimiento de los préstamos de 5690 préstamos otorgados recientemente. Esta planilla tiene 1854 registros.\n",
    "\n",
    "2. El variable objetivo (BAD) es una variable binaria que indica si un solicitante finalmente cumplió o incumplió en la cancelación del préstamo solicitado.  \n",
    " * 1 = cliente incumplió con el préstamo \n",
    " * 0 = préstamo cancelado\n",
    "\n",
    "3. Atributos:\n",
    " * LOAN    Amount of the loan request. Monto del préstamo solicitado.\n",
    " * MORTDUE Amount due on existing mortgage. Monto adeudado de la hipoteca.\n",
    " * VALUE   Value of current property. Valor actual de la propiedad.\n",
    " * YOJ     Years at present job. Antiguedad en el trabajo actual.\n",
    " * DEROG   Number of major derogatory reports. Número de informes negativos importantes.\n",
    " * DELINQ  Number of delinquent credit lines. Cantidad de créditos no pagados.\n",
    " * CLAGE   Age of oldest trade line in months. Edad de la línea comercial más antigua en meses.\n",
    " * NINQ    Number of recent credit lines. Número de líneas de crédito recientes.\n",
    " * CLNO    Number of credit lines. Número de linas de crédito.\n",
    " * DEBTINC Debt-to-income ratio. Relación Deuda / Ingresos.\n",
    "\n",
    "4. Seleccionaría:\n",
    " * DEROG   Number of major derogatory reports. Número de informes negativos importantes.\n",
    " * DELIQ   Number of delinquent credit lines. Cantidad de créditos no pagados.\n",
    " * CLNO    Number of credit lines. Número de linas de crédito.\n",
    " * DEBTINC Debt-to-income ratio. Relación Deuda / Ingresos.\n",
    "\n",
    "\n"
   ]
  },
  {
   "cell_type": "code",
   "execution_count": null,
   "metadata": {
    "colab": {
     "base_uri": "https://localhost:8080/",
     "height": 297
    },
    "colab_type": "code",
    "id": "JHw23I8tOclt",
    "outputId": "213f9b52-2396-4041-92d9-967b274b9e41"
   },
   "outputs": [],
   "source": [
    "dataset.describe()"
   ]
  },
  {
   "cell_type": "code",
   "execution_count": null,
   "metadata": {
    "colab": {
     "base_uri": "https://localhost:8080/",
     "height": 80
    },
    "colab_type": "code",
    "id": "TnxcRZpnPHAt",
    "outputId": "3d98a6e4-6dcd-423e-a01a-59ee45e05c5e"
   },
   "outputs": [],
   "source": [
    "dataset[dataset[\"DEROG\"] == 10]"
   ]
  },
  {
   "cell_type": "code",
   "execution_count": null,
   "metadata": {
    "colab": {
     "base_uri": "https://localhost:8080/",
     "height": 263
    },
    "colab_type": "code",
    "id": "xtexas1KGHDo",
    "outputId": "0a037ab7-69b0-4cd2-98f7-ff19e3544e59"
   },
   "outputs": [],
   "source": [
    "dataset['TARGET'].value_counts().plot.bar();"
   ]
  },
  {
   "cell_type": "code",
   "execution_count": null,
   "metadata": {
    "colab": {
     "base_uri": "https://localhost:8080/",
     "height": 1000
    },
    "colab_type": "code",
    "id": "VXBuRuKtPrXE",
    "outputId": "462246f9-4680-4d5c-d6cb-67194b386a1b"
   },
   "outputs": [],
   "source": [
    "features = dataset.columns[1:]\n",
    "fig = plt.figure(figsize=(15,5*len(features)))\n",
    "ds0 = dataset[dataset.TARGET == 0]\n",
    "ds1 = dataset[dataset.TARGET == 1]\n",
    "with sns.axes_style(\"white\"):\n",
    "    for i, col in enumerate(features):\n",
    "        sp1 = plt.subplot(len(features), 2, i+1)\n",
    "        sns.distplot(ds0[col], label='0')\n",
    "        sns.distplot(ds1[col], label='1')\n",
    "        plt.legend()"
   ]
  },
  {
   "cell_type": "markdown",
   "metadata": {
    "colab_type": "text",
    "id": "aSzoS6CAPe6_"
   },
   "source": [
    "## Ejercicio 2: Predicción con Modelos Lineales\n",
    "\n",
    "En este ejercicio se entrenarán modelos lineales de clasificación para predecir la variable objetivo.\n",
    "\n",
    "Para ello, deberán utilizar la clase SGDClassifier de scikit-learn.\n",
    "\n",
    "Documentación:\n",
    "- https://scikit-learn.org/stable/modules/sgd.html\n",
    "- https://scikit-learn.org/stable/modules/generated/sklearn.linear_model.SGDClassifier.html\n"
   ]
  },
  {
   "cell_type": "markdown",
   "metadata": {
    "colab_type": "text",
    "id": "jVHKAuvWfdk-"
   },
   "source": [
    "SGDClassifier es sensitivo a las magnitudes de los valores, por esta razón a continuación se realiza un escalado o normalización."
   ]
  },
  {
   "cell_type": "code",
   "execution_count": null,
   "metadata": {
    "colab": {},
    "colab_type": "code",
    "id": "sYJi7SVGKhrL"
   },
   "outputs": [],
   "source": [
    "escalado = StandardScaler()\n",
    "escalado.fit(X_train)\n",
    "X_train = escalado.transform(X_train)\n",
    "X_test  = escalado.transform(X_test) "
   ]
  },
  {
   "cell_type": "markdown",
   "metadata": {
    "colab_type": "text",
    "id": "-nlhwLByPe7D"
   },
   "source": [
    "### Ejercicio 2.1: SGDClassifier con hiperparámetros por defecto\n",
    "\n",
    "Entrenar y evaluar el clasificador SGDClassifier usando los valores por omisión de scikit-learn para todos los parámetros. Únicamente **fijar la semilla aleatoria** para hacer repetible el experimento.\n",
    "\n",
    "Evaluar sobre el conjunto de **entrenamiento** y sobre el conjunto de **evaluación**, reportando:\n",
    "- Accuracy\n",
    "- Precision\n",
    "- Recall\n",
    "- F1\n",
    "- matriz de confusión"
   ]
  },
  {
   "cell_type": "code",
   "execution_count": null,
   "metadata": {
    "colab": {},
    "colab_type": "code",
    "id": "nQBB0cHUR9sr"
   },
   "outputs": [],
   "source": [
    "model = SGDClassifier(random_state=0)\n",
    "classifier=model.fit(X_train, y_train)"
   ]
  },
  {
   "cell_type": "code",
   "execution_count": null,
   "metadata": {
    "colab": {},
    "colab_type": "code",
    "id": "4JJ1Fpj6hgat"
   },
   "outputs": [],
   "source": [
    "y_train_pred = model.predict(X_train)\n",
    "y_test_pred = model.predict(X_test)"
   ]
  },
  {
   "cell_type": "code",
   "execution_count": null,
   "metadata": {
    "colab": {
     "base_uri": "https://localhost:8080/",
     "height": 170
    },
    "colab_type": "code",
    "id": "YBte2Dxjh3km",
    "outputId": "640ae4ea-650e-49aa-9004-b03c39d6b919"
   },
   "outputs": [],
   "source": [
    "print(classification_report(y_train, y_train_pred))"
   ]
  },
  {
   "cell_type": "code",
   "execution_count": null,
   "metadata": {
    "colab": {
     "base_uri": "https://localhost:8080/",
     "height": 51
    },
    "colab_type": "code",
    "id": "YxfaalnqwZui",
    "outputId": "24b79e35-a58e-4356-8469-0ad3dcff3bae"
   },
   "outputs": [],
   "source": [
    "tn, fp, fn, tp = confusion_matrix(y_train, y_train_pred).ravel()\n",
    "print('TP: ', tp, '\\t FP: ', fp, '\\nTN: ', tn, '\\t FN: ', fn)"
   ]
  },
  {
   "cell_type": "markdown",
   "metadata": {
    "colab_type": "text",
    "id": "10P0FKVx1Wuj"
   },
   "source": [
    "Tomando como True = 1:\n",
    "\n",
    "$$Accuracy = \\frac{TP + TN}{TP + FP + FN + TN} = \\frac{105 + 1190}{105 + 42 + 146 + 1190} = 0.87 $$\n",
    "\n",
    "$$Precision = \\frac{TP}{TP + FP} = \\frac{105}{105 + 42} = 0.71 $$\n",
    "\n",
    "$$Recall = \\frac{TP}{TP + FN} = \\frac{105}{105 + 146} = 0.42 $$\n",
    "\n",
    "$$F_1 = \\frac{2 * Precision * Recall}{Precision + Recall} = \\frac{2 * 0.71 * 0.42}{0.71 + 0.42} = 0.53 $$\n"
   ]
  },
  {
   "cell_type": "code",
   "execution_count": null,
   "metadata": {
    "colab": {
     "base_uri": "https://localhost:8080/",
     "height": 170
    },
    "colab_type": "code",
    "id": "hLXSz6cIixZe",
    "outputId": "4989c43c-d1cd-4101-8f0e-ef506b66eb6a"
   },
   "outputs": [],
   "source": [
    "print(classification_report(y_test, y_test_pred))"
   ]
  },
  {
   "cell_type": "code",
   "execution_count": null,
   "metadata": {
    "colab": {
     "base_uri": "https://localhost:8080/",
     "height": 51
    },
    "colab_type": "code",
    "id": "yGooM14Tx52H",
    "outputId": "5482b12a-1d04-4e21-8778-9a7422e5558d"
   },
   "outputs": [],
   "source": [
    "tn, fp, fn, tp = confusion_matrix(y_test, y_test_pred).ravel()\n",
    "print('TP: ', tp, '\\tFP: ', fp, '\\nTN: ', tn, '\\tFN: ', fn)"
   ]
  },
  {
   "cell_type": "code",
   "execution_count": null,
   "metadata": {
    "colab": {
     "base_uri": "https://localhost:8080/",
     "height": 836
    },
    "colab_type": "code",
    "id": "x4UWtHpbU0N-",
    "outputId": "559d7b2f-c2cf-4504-921e-52cbe784d440"
   },
   "outputs": [],
   "source": [
    "fig, axs = plt.subplots(2,2,figsize=(14,12))\n",
    "fig.suptitle('Matrices de confusión SGDClassifier por defecto')\n",
    "axs[0][0].title.set_text('Entrenamiento')\n",
    "axs[0][1].title.set_text('Evaluación')\n",
    "fig.tight_layout(pad=5.0)\n",
    "np.set_printoptions(precision=2)\n",
    "titles_options = [(\"Entrenamiento\", 0, 0, X_train, y_train, None, 'd'),\n",
    "                  (\"Evaluación\", 0, 1, X_test, y_test,  None, 'd'),\n",
    "                  (\"Entrenamiento normalizada\", 1, 0, X_train, y_train, 'true', None),\n",
    "                  (\"Evaluación normalizada\", 1, 1, X_test, y_test, 'true', None)\n",
    "                  ]\n",
    "for title, row, col, x_val, y_val, norm, val_format in titles_options:\n",
    "    disp = plot_confusion_matrix(classifier, x_val, y_val,\n",
    "#                                  display_labels=class_names,\n",
    "                                 cmap=plt.cm.Greens_r,\n",
    "                                 normalize=norm,\n",
    "                                 values_format=val_format,\n",
    "                                 ax=axs[row][col]\n",
    "                                 )\n",
    "    disp.ax_.set_title(title)\n",
    "\n",
    "    # print(title)\n",
    "    # print(disp.confusion_matrix)"
   ]
  },
  {
   "cell_type": "markdown",
   "metadata": {
    "colab_type": "text",
    "id": "JZEvnyUTPe7E"
   },
   "source": [
    "### Ejercicio 2.2: Ajuste de Hiperparámetros\n",
    "\n",
    "Seleccionar valores para los hiperparámetros principales del SGDClassifier. Como mínimo, probar diferentes funciones de loss, tasas de entrenamiento y tasas de regularización.\n",
    "\n",
    "Para ello, usar grid-search y 5-fold cross-validation sobre el conjunto de entrenamiento para explorar muchas combinaciones posibles de valores.\n",
    "\n",
    "Reportar accuracy promedio y varianza para todas las configuraciones.\n",
    "\n",
    "Para la mejor configuración encontrada, evaluar sobre el conjunto de **entrenamiento** y sobre el conjunto de **evaluación**, reportando:\n",
    "- Accuracy\n",
    "- Precision\n",
    "- Recall\n",
    "- F1\n",
    "- matriz de confusión\n",
    "\n",
    "Documentación:\n",
    "- https://scikit-learn.org/stable/modules/grid_search.html\n",
    "- https://scikit-learn.org/stable/modules/generated/sklearn.model_selection.GridSearchCV.html"
   ]
  },
  {
   "cell_type": "code",
   "execution_count": null,
   "metadata": {
    "colab": {},
    "colab_type": "code",
    "id": "9xMZPoKNssf8"
   },
   "outputs": [],
   "source": [
    "param_grid = {\n",
    "    'loss': [\n",
    "        'hinge',        # SVM\n",
    "        'log',          # logistic regression\n",
    "    ],\n",
    "#     'learning_rate': [\n",
    "#         'constant',\n",
    "#         'optimal',\n",
    "#         'invscaling', \n",
    "#         'adaptive', \n",
    "#     ],\n",
    "#     'alpha': [0.0001, 0.001, 0.01, 0.1, 1.0], \n",
    "#     'eta0': [0.01, 0.1, 1] \n",
    "    'learning_rate': ['optimal','constant', 'adaptive'],  #diferents opciones de tasa de entrenamiento\n",
    "#     'loss': ['hinge', 'log', 'modified_huber', 'squared_hinge'], #diferentes opciones de función de costo\n",
    "    'l1_ratio': list(np.linspace(0, 1, 4))+[0.15], # diferentes opciones de tasas de regularización\n",
    "    'alpha': np.logspace(-4, 0, 4),\n",
    "    'eta0': np.logspace(-2, 0, 2),\n",
    "    \n",
    "}"
   ]
  },
  {
   "cell_type": "code",
   "execution_count": null,
   "metadata": {
    "colab": {},
    "colab_type": "code",
    "id": "uBgHmZo2woMH"
   },
   "outputs": [],
   "source": [
    "#cv=None is cv=5 by default.. cross validation \n",
    "model = SGDClassifier(random_state=0, max_iter=3000)\n",
    "cv = GridSearchCV(model, param_grid, scoring='accuracy')\n",
    "cv.fit(X_train, y_train); #entrenamiento o dataset completo?\n",
    "#cv.fit(X, y) "
   ]
  },
  {
   "cell_type": "code",
   "execution_count": null,
   "metadata": {},
   "outputs": [],
   "source": [
    "# SGDClassifier()"
   ]
  },
  {
   "cell_type": "code",
   "execution_count": null,
   "metadata": {
    "colab": {},
    "colab_type": "code",
    "id": "eIQF6uqsfVwr"
   },
   "outputs": [],
   "source": [
    "results = cv.cv_results_\n",
    "df = pd.DataFrame(results)"
   ]
  },
  {
   "cell_type": "code",
   "execution_count": null,
   "metadata": {
    "colab": {
     "base_uri": "https://localhost:8080/",
     "height": 317
    },
    "colab_type": "code",
    "id": "UUNS7gmed53c",
    "outputId": "1b05dffa-9ab3-4869-aa5b-aed75b4ba05d"
   },
   "outputs": [],
   "source": [
    "df.describe()"
   ]
  },
  {
   "cell_type": "code",
   "execution_count": null,
   "metadata": {
    "colab": {
     "base_uri": "https://localhost:8080/",
     "height": 669
    },
    "colab_type": "code",
    "id": "wmMeivJdlegh",
    "outputId": "c86d07a4-a3d2-4e7f-88ac-6626671d6450"
   },
   "outputs": [],
   "source": [
    "pd.options.display.max_colwidth = 100\n",
    "df[['params','mean_test_score','std_test_score','rank_test_score']].head(20)"
   ]
  },
  {
   "cell_type": "code",
   "execution_count": null,
   "metadata": {
    "colab": {},
    "colab_type": "code",
    "id": "u_IBLL96S2RP"
   },
   "outputs": [],
   "source": [
    "df.sort_values(['mean_test_score','std_test_score','rank_test_score'],\n",
    "               ascending = [False,True,True],\n",
    "               inplace=True)\n",
    "df.reset_index(drop=True,inplace=True)"
   ]
  },
  {
   "cell_type": "code",
   "execution_count": null,
   "metadata": {
    "colab": {
     "base_uri": "https://localhost:8080/",
     "height": 542
    },
    "colab_type": "code",
    "id": "IGVvJL3KSDq1",
    "outputId": "ea581bc4-e9ae-4832-85fa-ce0bcdd213d7"
   },
   "outputs": [],
   "source": [
    "fig = go.Figure()\n",
    "\n",
    "fig = make_subplots(specs=[[{\"secondary_y\": True}]])\n",
    "\n",
    "fig.add_trace(go.Scatter(x=df.index, y=df['mean_test_score'], \n",
    "                         name='Mean score', mode='markers', marker=dict(color='royalblue'),\n",
    "                         yaxis='y1',\n",
    "                         text=df['params'].astype('str')\n",
    "                         )\n",
    "             )\n",
    "\n",
    "fig.add_trace(go.Scatter(x=df.index, y=df['std_test_score'], \n",
    "                         name='Std score', mode='markers', marker=dict(color='green'),\n",
    "                         yaxis = 'y2',\n",
    "                         text=df['params'].astype('str')\n",
    "                         )\n",
    "             )\n",
    "\n",
    "fig.update_layout(\n",
    "    title=go.layout.Title(\n",
    "        text=\"Reporte para {} configuraciones de parámetros\".format(len(df)),\n",
    "        xref=\"paper\",\n",
    "        x=0\n",
    "    ),\n",
    "    xaxis_title=\"ranking\",\n",
    "    yaxis_title=\"Mean test score\",\n",
    "    yaxis2_title=\"Std test score\", \n",
    " )\n"
   ]
  },
  {
   "cell_type": "markdown",
   "metadata": {
    "colab_type": "text",
    "id": "uJj3MUDWaX2w"
   },
   "source": [
    "Seleccionamos la mejor configuración de hyper parámetros."
   ]
  },
  {
   "cell_type": "code",
   "execution_count": null,
   "metadata": {
    "colab": {
     "base_uri": "https://localhost:8080/",
     "height": 34
    },
    "colab_type": "code",
    "id": "XK6ZdIsAw3Yk",
    "outputId": "29bb17fb-baf5-4722-c10d-85ba21043370"
   },
   "outputs": [],
   "source": [
    "best_model = df.loc[df['rank_test_score'].idxmin()]['params']\n",
    "best_model"
   ]
  },
  {
   "cell_type": "code",
   "execution_count": null,
   "metadata": {
    "colab": {},
    "colab_type": "code",
    "id": "DZ4_lCzBjweX"
   },
   "outputs": [],
   "source": [
    "model = SGDClassifier(**best_model, random_state=0)\n",
    "classifier = model.fit(X_train, y_train)"
   ]
  },
  {
   "cell_type": "code",
   "execution_count": null,
   "metadata": {
    "colab": {},
    "colab_type": "code",
    "id": "5D-zkYcFk83N"
   },
   "outputs": [],
   "source": [
    "y_train_pred = model.predict(X_train)\n",
    "y_test_pred = model.predict(X_test)"
   ]
  },
  {
   "cell_type": "code",
   "execution_count": null,
   "metadata": {
    "colab": {
     "base_uri": "https://localhost:8080/",
     "height": 170
    },
    "colab_type": "code",
    "id": "zrOF-xiVlDBW",
    "outputId": "25133507-b4a8-4f71-d0bc-428ceda470f8"
   },
   "outputs": [],
   "source": [
    "print(classification_report(y_train, y_train_pred))"
   ]
  },
  {
   "cell_type": "code",
   "execution_count": null,
   "metadata": {
    "colab": {
     "base_uri": "https://localhost:8080/",
     "height": 51
    },
    "colab_type": "code",
    "id": "_9bQOdnklOTl",
    "outputId": "869d8e88-b763-42b8-ef46-d9aa800640d7"
   },
   "outputs": [],
   "source": [
    "tn, fp, fn, tp = confusion_matrix(y_train, y_train_pred).ravel()\n",
    "print('TP: ', tp, '\\t FP: ', fp, '\\nTN: ', tn, '\\t FN: ', fn)"
   ]
  },
  {
   "cell_type": "code",
   "execution_count": null,
   "metadata": {
    "colab": {
     "base_uri": "https://localhost:8080/",
     "height": 170
    },
    "colab_type": "code",
    "id": "72fFJBFvlWLG",
    "outputId": "20a19045-b7dd-4466-cb4d-1dba45867a24"
   },
   "outputs": [],
   "source": [
    "print(classification_report(y_test, y_test_pred))"
   ]
  },
  {
   "cell_type": "code",
   "execution_count": null,
   "metadata": {
    "colab": {
     "base_uri": "https://localhost:8080/",
     "height": 51
    },
    "colab_type": "code",
    "id": "pcIxiQQglepa",
    "outputId": "189a1d2f-c355-44c2-c1e0-02a44dcfc732"
   },
   "outputs": [],
   "source": [
    "tn, fp, fn, tp = confusion_matrix(y_test, y_test_pred).ravel()\n",
    "print('TP: ', tp, '\\t FP: ', fp, '\\nTN: ', tn, '\\t FN: ', fn)"
   ]
  },
  {
   "cell_type": "code",
   "execution_count": null,
   "metadata": {
    "colab": {
     "base_uri": "https://localhost:8080/",
     "height": 836
    },
    "colab_type": "code",
    "id": "m9If-qFXN9hl",
    "outputId": "c3ce2e1c-5221-43e9-de35-77a062915d25"
   },
   "outputs": [],
   "source": [
    "fig, axs = plt.subplots(2,2,figsize=(14,12))\n",
    "fig.suptitle('Matrices de confusión SGDClassifier mejor modelo')\n",
    "axs[0][0].title.set_text('Entrenamiento')\n",
    "axs[0][1].title.set_text('Evaluación')\n",
    "fig.tight_layout(pad=5.0)\n",
    "np.set_printoptions(precision=2)\n",
    "titles_options = [(\"Entrenamiento\", 0, 0, X_train, y_train, None, 'd'),\n",
    "                  (\"Evaluación\", 0, 1, X_test, y_test,  None, 'd'),\n",
    "                  (\"Entrenamiento normalizada\", 1, 0, X_train, y_train, 'true', None),\n",
    "                  (\"Evaluación normalizada\", 1, 1, X_test, y_test, 'true', None)\n",
    "                  ]\n",
    "for title, row, col, x_val, y_val, norm, val_format in titles_options:\n",
    "    disp = plot_confusion_matrix(classifier, x_val, y_val,\n",
    "#                                  display_labels=class_names,\n",
    "                                 cmap=plt.cm.Greens_r,\n",
    "                                 normalize=norm,\n",
    "                                 values_format=val_format,\n",
    "                                 ax=axs[row][col]\n",
    "                                 )\n",
    "    disp.ax_.set_title(title)\n",
    "\n",
    "    # print(title)\n",
    "    # print(disp.confusion_matrix)"
   ]
  },
  {
   "cell_type": "markdown",
   "metadata": {
    "colab_type": "text",
    "id": "_zLoFXp2Pe7F"
   },
   "source": [
    "## Ejercicio 3: Árboles de Decisión\n",
    "\n",
    "En este ejercicio se entrenarán árboles de decisión para predecir la variable objetivo.\n",
    "\n",
    "Para ello, deberán utilizar la clase DecisionTreeClassifier de scikit-learn.\n",
    "\n",
    "Documentación:\n",
    "- https://scikit-learn.org/stable/modules/tree.html\n",
    "  - https://scikit-learn.org/stable/modules/tree.html#tips-on-practical-use\n",
    "- https://scikit-learn.org/stable/modules/generated/sklearn.tree.DecisionTreeClassifier.html\n",
    "- https://scikit-learn.org/stable/auto_examples/tree/plot_unveil_tree_structure.html"
   ]
  },
  {
   "cell_type": "markdown",
   "metadata": {
    "colab_type": "text",
    "id": "4sCseE4APe7G"
   },
   "source": [
    "### Ejercicio 3.1: DecisionTreeClassifier con hiperparámetros por defecto\n",
    "\n",
    "Entrenar y evaluar el clasificador DecisionTreeClassifier usando los valores por omisión de scikit-learn para todos los parámetros. Únicamente **fijar la semilla aleatoria** para hacer repetible el experimento.\n",
    "\n",
    "Evaluar sobre el conjunto de **entrenamiento** y sobre el conjunto de **evaluación**, reportando:\n",
    "- Accuracy\n",
    "- Precision\n",
    "- Recall\n",
    "- F1\n",
    "- matriz de confusión\n"
   ]
  },
  {
   "cell_type": "code",
   "execution_count": null,
   "metadata": {
    "colab": {
     "base_uri": "https://localhost:8080/",
     "height": 117
    },
    "colab_type": "code",
    "id": "dTMd6ggjc5PJ",
    "outputId": "07174479-9f93-451b-b34c-abb27b82d117"
   },
   "outputs": [],
   "source": [
    "model = DecisionTreeClassifier(random_state=0)\n",
    "model.fit(X_train, y_train)"
   ]
  },
  {
   "cell_type": "code",
   "execution_count": null,
   "metadata": {
    "colab": {},
    "colab_type": "code",
    "id": "s4UVGgSHhcyW"
   },
   "outputs": [],
   "source": [
    "y_train_pred = model.predict(X_train)\n",
    "y_test_pred = model.predict(X_test)"
   ]
  },
  {
   "cell_type": "code",
   "execution_count": null,
   "metadata": {
    "colab": {
     "base_uri": "https://localhost:8080/",
     "height": 50
    },
    "colab_type": "code",
    "id": "f6D9dbodwcys",
    "outputId": "43dc5192-266f-47a1-bf93-a7b544808900"
   },
   "outputs": [],
   "source": [
    "print('Profundidad máxima del árbol:', model.get_depth())\n",
    "print('Cantidad máxima de hojas:', model.get_n_leaves())"
   ]
  },
  {
   "cell_type": "code",
   "execution_count": null,
   "metadata": {
    "colab": {
     "base_uri": "https://localhost:8080/",
     "height": 167
    },
    "colab_type": "code",
    "id": "f4yU8qBKhjl_",
    "outputId": "ab30f35f-6434-46c3-e757-cff331798e53"
   },
   "outputs": [],
   "source": [
    "print(classification_report(y_train, y_train_pred))"
   ]
  },
  {
   "cell_type": "code",
   "execution_count": null,
   "metadata": {
    "colab": {
     "base_uri": "https://localhost:8080/",
     "height": 50
    },
    "colab_type": "code",
    "id": "gMN7oQeRjK8Q",
    "outputId": "d3453e92-f91c-4d4a-c3a4-de1079cd5805"
   },
   "outputs": [],
   "source": [
    "tn, fp, fn, tp = confusion_matrix(y_train, y_train_pred).ravel()\n",
    "print('TP: ', tp, '\\t FP: ', fp, '\\nTN: ', tn, '\\t FN: ', fn)"
   ]
  },
  {
   "cell_type": "code",
   "execution_count": null,
   "metadata": {
    "colab": {
     "base_uri": "https://localhost:8080/",
     "height": 167
    },
    "colab_type": "code",
    "id": "EgRHIAE8nFAu",
    "outputId": "27b844a3-eba6-4f1a-a0c5-c4e7bf728b53"
   },
   "outputs": [],
   "source": [
    "print(classification_report(y_test, y_test_pred))"
   ]
  },
  {
   "cell_type": "code",
   "execution_count": null,
   "metadata": {
    "colab": {
     "base_uri": "https://localhost:8080/",
     "height": 50
    },
    "colab_type": "code",
    "id": "LCuojxJKnM1s",
    "outputId": "c26041a0-20ee-43d1-b510-59223999d31f"
   },
   "outputs": [],
   "source": [
    "tn, fp, fn, tp = confusion_matrix(y_test, y_test_pred).ravel()\n",
    "print('TP: ', tp, '\\t FP: ', fp, '\\nTN: ', tn, '\\t FN: ', fn)"
   ]
  },
  {
   "cell_type": "markdown",
   "metadata": {
    "colab_type": "text",
    "id": "54MeGPCExs8z"
   },
   "source": [
    "Graficamos el árbol de decisión."
   ]
  },
  {
   "cell_type": "code",
   "execution_count": null,
   "metadata": {
    "colab": {
     "base_uri": "https://localhost:8080/",
     "height": 578
    },
    "colab_type": "code",
    "id": "yPmscM-hxHYL",
    "outputId": "6aa28e3c-8373-4318-b0f6-dbf76daa163d"
   },
   "outputs": [],
   "source": [
    "plt.figure(figsize=(17,10))\n",
    "plot_tree(model, impurity=False, fontsize=8, filled=True, label='root')  #filled=True,\n",
    "plt.show()"
   ]
  },
  {
   "cell_type": "markdown",
   "metadata": {
    "colab_type": "text",
    "id": "IL_sYYbmPe7J"
   },
   "source": [
    "### Ejercicio 3.2: Ajuste de Hiperparámetros\n",
    "\n",
    "Seleccionar valores para los hiperparámetros principales del DecisionTreeClassifier. Como mínimo, probar diferentes criterios de partición (criterion), profundidad máxima del árbol (max_depth), y cantidad mínima de samples por hoja (min_samples_leaf).\n",
    "\n",
    "Para ello, usar grid-search y 5-fold cross-validation sobre el conjunto de entrenamiento para explorar muchas combinaciones posibles de valores.\n",
    "\n",
    "Reportar accuracy promedio y varianza para todas las configuraciones.\n",
    "\n",
    "Para la mejor configuración encontrada, evaluar sobre el conjunto de **entrenamiento** y sobre el conjunto de **evaluación**, reportando:\n",
    "- Accuracy\n",
    "- Precision\n",
    "- Recall\n",
    "- F1\n",
    "- matriz de confusión\n",
    "\n",
    "\n",
    "Documentación:\n",
    "- https://scikit-learn.org/stable/modules/grid_search.html\n",
    "- https://scikit-learn.org/stable/modules/generated/sklearn.model_selection.GridSearchCV.html"
   ]
  },
  {
   "cell_type": "code",
   "execution_count": null,
   "metadata": {
    "colab": {},
    "colab_type": "code",
    "id": "itc7wf7bjrPz"
   },
   "outputs": [],
   "source": [
    "param_grid = {\n",
    "    'splitter': ['best', 'random'],\n",
    "    'criterion': ['gini', 'entropy'],\n",
    "    'max_depth': np.arange(4,20,2),\n",
    "    'min_samples_leaf': np.arange(1,10),\n",
    "}\n"
   ]
  },
  {
   "cell_type": "code",
   "execution_count": null,
   "metadata": {
    "colab": {},
    "colab_type": "code",
    "id": "ixBh61gkkC1p"
   },
   "outputs": [],
   "source": [
    "cv = GridSearchCV(DecisionTreeClassifier(random_state=0), param_grid, scoring='accuracy')\n",
    "cv.fit(X, y);"
   ]
  },
  {
   "cell_type": "code",
   "execution_count": null,
   "metadata": {
    "colab": {},
    "colab_type": "code",
    "id": "0bZCXqVelRzi"
   },
   "outputs": [],
   "source": [
    "results = cv.cv_results_\n",
    "df = pd.DataFrame(results)"
   ]
  },
  {
   "cell_type": "code",
   "execution_count": null,
   "metadata": {
    "colab": {},
    "colab_type": "code",
    "id": "Ja5KS53Py2lD"
   },
   "outputs": [],
   "source": [
    "df.sort_values(['mean_test_score','std_test_score','rank_test_score'],\n",
    "               ascending = [False,True,True],\n",
    "               inplace=True)\n",
    "df.reset_index(drop=True,inplace=True)"
   ]
  },
  {
   "cell_type": "code",
   "execution_count": null,
   "metadata": {
    "colab": {
     "base_uri": "https://localhost:8080/",
     "height": 542
    },
    "colab_type": "code",
    "id": "edhT5UHbzFIO",
    "outputId": "570a0cf4-613f-497f-ef22-84b0abffcf6b"
   },
   "outputs": [],
   "source": [
    "fig = go.Figure()\n",
    "\n",
    "fig = make_subplots(specs=[[{\"secondary_y\": True}]])\n",
    "\n",
    "fig.add_trace(go.Scatter(x=df.index, y=df['mean_test_score'], \n",
    "                         name='Mean score', mode='markers', marker=dict(color='royalblue'),\n",
    "                         yaxis='y1',\n",
    "                         text=df['params'].astype('str')\n",
    "                         )\n",
    "             )\n",
    "\n",
    "fig.add_trace(go.Scatter(x=df.index, y=df['std_test_score'], \n",
    "                         name='Std score', mode='markers', marker=dict(color='green'),\n",
    "                         yaxis = 'y2',\n",
    "                         text=df['params'].astype('str')\n",
    "                         )\n",
    "             )\n",
    "\n",
    "fig.update_layout(\n",
    "    title=go.layout.Title(\n",
    "        text=\"Reporte para {} configuraciones de parámetros\".format(len(df)),\n",
    "        xref=\"paper\",\n",
    "        x=0\n",
    "    ),\n",
    "    xaxis_title=\"ranking\",\n",
    "    yaxis_title=\"Mean test score\",\n",
    "    yaxis2_title=\"Std test score\", \n",
    " )\n"
   ]
  },
  {
   "cell_type": "markdown",
   "metadata": {
    "colab_type": "text",
    "id": "ujIz1OHXzSku"
   },
   "source": [
    "Seleccionamos la mejor configuración de hyper parámetros."
   ]
  },
  {
   "cell_type": "code",
   "execution_count": null,
   "metadata": {
    "colab": {
     "base_uri": "https://localhost:8080/",
     "height": 85
    },
    "colab_type": "code",
    "id": "2cpwARdKzaU-",
    "outputId": "53d6fd13-a294-4b84-f399-22700665b8f6"
   },
   "outputs": [],
   "source": [
    "best_model = df.loc[df['rank_test_score'].idxmin()]['params']\n",
    "best_model"
   ]
  },
  {
   "cell_type": "code",
   "execution_count": null,
   "metadata": {
    "colab": {},
    "colab_type": "code",
    "id": "O0s7NDWTzaTs"
   },
   "outputs": [],
   "source": [
    "model = DecisionTreeClassifier(**best_model, random_state=0)\n",
    "classifier=model.fit(X_train, y_train)"
   ]
  },
  {
   "cell_type": "code",
   "execution_count": null,
   "metadata": {
    "colab": {},
    "colab_type": "code",
    "id": "nlsfS29upldd"
   },
   "outputs": [],
   "source": [
    "y_train_pred = model.predict(X_train)\n",
    "y_test_pred = model.predict(X_test)"
   ]
  },
  {
   "cell_type": "code",
   "execution_count": null,
   "metadata": {
    "colab": {
     "base_uri": "https://localhost:8080/",
     "height": 51
    },
    "colab_type": "code",
    "id": "Os_ZYSf80wYp",
    "outputId": "3b6294da-8aa2-4072-ab61-2faddc2f3b11"
   },
   "outputs": [],
   "source": [
    "print('Profundidad máxima del árbol:', model.get_depth())\n",
    "print('Cantidad máxima de hojas:', model.get_n_leaves())"
   ]
  },
  {
   "cell_type": "code",
   "execution_count": null,
   "metadata": {
    "colab": {
     "base_uri": "https://localhost:8080/",
     "height": 170
    },
    "colab_type": "code",
    "id": "qQ20sUN9pqyZ",
    "outputId": "61c94533-eaf9-4209-e079-b184661e61f5"
   },
   "outputs": [],
   "source": [
    "print(classification_report(y_train, y_train_pred))"
   ]
  },
  {
   "cell_type": "code",
   "execution_count": null,
   "metadata": {
    "colab": {
     "base_uri": "https://localhost:8080/",
     "height": 51
    },
    "colab_type": "code",
    "id": "bcXc8vLApxON",
    "outputId": "a0176acd-9644-4ff4-c15c-cdc981c22aba"
   },
   "outputs": [],
   "source": [
    "tn, fp, fn, tp = confusion_matrix(y_train, y_train_pred).ravel()\n",
    "print('TP: ', tp, '\\t FP: ', fp, '\\nTN: ', tn, '\\t FN: ', fn)"
   ]
  },
  {
   "cell_type": "code",
   "execution_count": null,
   "metadata": {
    "colab": {
     "base_uri": "https://localhost:8080/",
     "height": 170
    },
    "colab_type": "code",
    "id": "w_6h9Ilsp3Sh",
    "outputId": "b1c4f026-42ef-4d1d-998b-cc6006c3f122"
   },
   "outputs": [],
   "source": [
    "print(classification_report(y_test, y_test_pred))"
   ]
  },
  {
   "cell_type": "code",
   "execution_count": null,
   "metadata": {
    "colab": {
     "base_uri": "https://localhost:8080/",
     "height": 51
    },
    "colab_type": "code",
    "id": "pdVD_NIuqAGX",
    "outputId": "a7418b67-a04e-48ab-837c-4fb08ea805ac"
   },
   "outputs": [],
   "source": [
    "tn, fp, fn, tp = confusion_matrix(y_test, y_test_pred).ravel()\n",
    "print('TP: ', tp, '\\t FP: ', fp, '\\nTN: ', tn, '\\t FN: ', fn)"
   ]
  },
  {
   "cell_type": "code",
   "execution_count": null,
   "metadata": {
    "colab": {
     "base_uri": "https://localhost:8080/",
     "height": 836
    },
    "colab_type": "code",
    "id": "ootPqyOOcmF9",
    "outputId": "bf7ec6b8-1a09-48d5-e738-9076590c81d5"
   },
   "outputs": [],
   "source": [
    "fig, axs = plt.subplots(2,2,figsize=(14,12))\n",
    "fig.suptitle('Matrices de confusión DecisionTreeClassifier mejor modelo')\n",
    "axs[0][0].title.set_text('Entrenamiento')\n",
    "axs[0][1].title.set_text('Evaluación')\n",
    "fig.tight_layout(pad=5.0)\n",
    "np.set_printoptions(precision=2)\n",
    "titles_options = [(\"Entrenamiento\", 0, 0, X_train, y_train, None, 'd'),\n",
    "                  (\"Evaluación\", 0, 1, X_test, y_test,  None, 'd'),\n",
    "                  (\"Entrenamiento normalizada\", 1, 0, X_train, y_train, 'true', None),\n",
    "                  (\"Evaluación normalizada\", 1, 1, X_test, y_test, 'true', None)\n",
    "                  ]\n",
    "for title, row, col, x_val, y_val, norm, val_format in titles_options:\n",
    "    disp = plot_confusion_matrix(classifier, x_val, y_val,\n",
    "#                                  display_labels=class_names,\n",
    "                                 cmap=plt.cm.Greens_r,\n",
    "                                 normalize=norm,\n",
    "                                 values_format=val_format,\n",
    "                                 ax=axs[row][col]\n",
    "                                 )\n",
    "    disp.ax_.set_title(title)\n",
    "\n",
    "    # print(title)\n",
    "    # print(disp.confusion_matrix)"
   ]
  },
  {
   "cell_type": "markdown",
   "metadata": {
    "colab_type": "text",
    "id": "nm-_s8Ql2y4Q"
   },
   "source": [
    "Graficamos el árbol de decisión."
   ]
  },
  {
   "cell_type": "code",
   "execution_count": null,
   "metadata": {
    "colab": {
     "base_uri": "https://localhost:8080/",
     "height": 575
    },
    "colab_type": "code",
    "id": "A50psd7I2W_h",
    "outputId": "b2a82bdc-b84f-4ff1-92ca-72b54e2ad9ce"
   },
   "outputs": [],
   "source": [
    "plt.figure(figsize=(17,10))\n",
    "plot_tree(model, impurity=False, fontsize=8, filled=True, label='root')  #filled=True,\n",
    "plt.show()"
   ]
  },
  {
   "cell_type": "code",
   "execution_count": null,
   "metadata": {
    "colab": {},
    "colab_type": "code",
    "id": "CGgdK-Wh224P"
   },
   "outputs": [],
   "source": []
  },
  {
   "cell_type": "markdown",
   "metadata": {
    "colab_type": "text",
    "id": "nh9IIjHB7BTI"
   },
   "source": [
    "## Conclusión\n",
    "\n",
    "Observamos que el modelo de árbol de decisión fue más preciso que el modelo descenso de graciente estocástico.\n",
    "\n",
    "También observamos que los datos están un poco desbalanceados. De los 1854 préstamos, sólo un 25% corresponden a préstamos no cancelados. \n"
   ]
  },
  {
   "cell_type": "code",
   "execution_count": null,
   "metadata": {
    "colab": {},
    "colab_type": "code",
    "id": "RLttql1Z7B-0"
   },
   "outputs": [],
   "source": []
  }
 ],
 "metadata": {
  "colab": {
   "collapsed_sections": [],
   "name": "Lab 2.ipynb",
   "provenance": []
  },
  "kernelspec": {
   "display_name": "Python 3",
   "language": "python",
   "name": "python3"
  },
  "language_info": {
   "codemirror_mode": {
    "name": "ipython",
    "version": 3
   },
   "file_extension": ".py",
   "mimetype": "text/x-python",
   "name": "python",
   "nbconvert_exporter": "python",
   "pygments_lexer": "ipython3",
   "version": "3.7.4"
  }
 },
 "nbformat": 4,
 "nbformat_minor": 1
}
